{
 "cells": [
  {
   "cell_type": "code",
   "execution_count": 97,
   "metadata": {},
   "outputs": [],
   "source": [
    "import pandas as pd\n",
    "from sqlalchemy import create_engine\n",
    "import numpy as np\n",
    "import pymongo"
   ]
  },
  {
   "cell_type": "markdown",
   "metadata": {},
   "source": [
    "## read raw csv files"
   ]
  },
  {
   "cell_type": "code",
   "execution_count": 98,
   "metadata": {},
   "outputs": [],
   "source": [
    "\n",
    "metro_NY_file = 'Police Dataset/Large_metro_areas/NYPD_Arrests_Data__Historic_.csv'\n",
    "NYFrisk_2015_file = 'Police Dataset/NYC_stop_frisk/sqf-2015.csv'\n",
    "NYFrisk_2016_file = 'Police Dataset/NYC_stop_frisk/sqf-2016.csv'\n",
    "NYFrisk_2017_file = 'Police Dataset/NYC_stop_frisk/sqf-2017.csv'\n",
    "NYFrisk_2018_file = 'Police Dataset/NYC_stop_frisk/sqf-2018.csv'\n",
    "NYFrisk_2019_file = 'Police Dataset/NYC_stop_frisk/sqf-2019.csv'\n",
    "\n",
    "deaths_arrests_file = 'Police Dataset/deaths_arrests_race.csv'\n",
    "\n",
    "\n",
    "fatal_encouters_file = 'Police Dataset/fatal_encounters_dot_org.csv'\n",
    "fatal_shootings_file = 'Police Dataset/fatal-police-shootings-data.csv'\n",
    "\n",
    "contracts_file = 'Police Dataset/police_contracts.csv'\n",
    "\n",
    "killings_file = 'Police Dataset/police_killings.csv'\n",
    "\n",
    "\n",
    "wash_post_shootings_file = 'Police Dataset/shootings_wash_post.csv'\n",
    "\n",
    "politics_file = 'Police Dataset/politics_538.csv'\n",
    "politics_df = pd.read_csv(politics_file)"
   ]
  },
  {
   "cell_type": "code",
   "execution_count": 99,
   "metadata": {},
   "outputs": [
    {
     "name": "stderr",
     "output_type": "stream",
     "text": [
      "/Users/applewang/opt/anaconda3/lib/python3.7/site-packages/IPython/core/interactiveshell.py:3063: DtypeWarning: Columns (0,1,2,3,4,8,18,19,73,74,84,85,86,103,110,111) have mixed types.Specify dtype option on import or set low_memory=False.\n",
      "  interactivity=interactivity, compiler=compiler, result=result)\n"
     ]
    }
   ],
   "source": [
    "\n",
    "metro_NY_df = pd.read_csv(metro_NY_file)\n",
    "NYFrisk_2015_df = pd.read_csv(NYFrisk_2015_file)\n",
    "NYFrisk_2016_df = pd.read_csv(NYFrisk_2016_file)\n",
    "NYFrisk_2017_df = pd.read_csv(NYFrisk_2017_file)\n",
    "NYFrisk_2018_df = pd.read_csv(NYFrisk_2018_file)\n",
    "NYFrisk_2019_df = pd.read_csv(NYFrisk_2019_file)\n",
    "\n",
    "deaths_arrests_df = pd.read_csv(deaths_arrests_file)\n",
    "\n",
    "\n",
    "fatal_encouters_df = pd.read_csv(fatal_encouters_file)\n",
    "fatal_shootings_df = pd.read_csv(fatal_shootings_file)\n",
    "\n",
    "\n",
    "\n",
    "killings_df = pd.read_csv(killings_file)\n",
    "\n",
    "\n",
    "\n",
    "wash_post_shootings_df = pd.read_csv(wash_post_shootings_file)\n",
    "\n"
   ]
  },
  {
   "cell_type": "markdown",
   "metadata": {},
   "source": [
    "## start cleaning data frames"
   ]
  },
  {
   "cell_type": "code",
   "execution_count": 100,
   "metadata": {},
   "outputs": [],
   "source": [
    "#NYFrisk_2015_df \n",
    "#frisk_2016_filtered\n",
    "#frisk_2017_filtered\n",
    "#frisk_2018_filtered\n",
    "#NYFrisk_2019_df \n",
    "\n",
    "\n",
    "\n",
    "#cleaned data frames:\n",
    "\n",
    "#merged_frisk\n",
    "#clean_metro_NY\n",
    "#clean_deaths_arrest\n",
    "#clean_fatal_encouters\n",
    "#fatal_shootings_df\n",
    "#clean_killings_df\n",
    "#politics_df\n",
    "#wash_post_shootings_df\n"
   ]
  },
  {
   "cell_type": "code",
   "execution_count": 101,
   "metadata": {},
   "outputs": [],
   "source": [
    "frisk_2016_cols = [\"year\",\"crimsusp\",\"sex\",\"race\",\"city\"]\n",
    "frisk_2016_filtered = NYFrisk_2016_df[frisk_2016_cols].copy()\n"
   ]
  },
  {
   "cell_type": "code",
   "execution_count": 102,
   "metadata": {},
   "outputs": [],
   "source": [
    "frisk_2017_cols = [\"year\",\"crimsusp\",\"sex\",\"race\",\"city\"]\n",
    "frisk_2017_filtered = NYFrisk_2017_df[frisk_2016_cols].copy()\n"
   ]
  },
  {
   "cell_type": "code",
   "execution_count": 103,
   "metadata": {},
   "outputs": [],
   "source": [
    "\n",
    "frisk_2017_cols = [\"year\",\"crimsusp\",\"sex\",\"race\",\"city\"]\n",
    "frisk_2018_filtered = NYFrisk_2018_df[frisk_2016_cols].copy()\n",
    "\n"
   ]
  },
  {
   "cell_type": "code",
   "execution_count": 111,
   "metadata": {},
   "outputs": [
    {
     "data": {
      "text/html": [
       "<div>\n",
       "<style scoped>\n",
       "    .dataframe tbody tr th:only-of-type {\n",
       "        vertical-align: middle;\n",
       "    }\n",
       "\n",
       "    .dataframe tbody tr th {\n",
       "        vertical-align: top;\n",
       "    }\n",
       "\n",
       "    .dataframe thead th {\n",
       "        text-align: right;\n",
       "    }\n",
       "</style>\n",
       "<table border=\"1\" class=\"dataframe\">\n",
       "  <thead>\n",
       "    <tr style=\"text-align: right;\">\n",
       "      <th></th>\n",
       "      <th></th>\n",
       "      <th>year</th>\n",
       "      <th>crimsusp</th>\n",
       "      <th>sex</th>\n",
       "      <th>race</th>\n",
       "      <th>city</th>\n",
       "    </tr>\n",
       "  </thead>\n",
       "  <tbody>\n",
       "    <tr>\n",
       "      <th rowspan=\"5\" valign=\"top\">NYFrisk_2015_df</th>\n",
       "      <th>0</th>\n",
       "      <td>2015</td>\n",
       "      <td>FELONY</td>\n",
       "      <td>M</td>\n",
       "      <td>W</td>\n",
       "      <td>BROOKLYN</td>\n",
       "    </tr>\n",
       "    <tr>\n",
       "      <th>1</th>\n",
       "      <td>2015</td>\n",
       "      <td>FELONY</td>\n",
       "      <td>M</td>\n",
       "      <td>B</td>\n",
       "      <td>MANHATTAN</td>\n",
       "    </tr>\n",
       "    <tr>\n",
       "      <th>2</th>\n",
       "      <td>2015</td>\n",
       "      <td>MISD</td>\n",
       "      <td>M</td>\n",
       "      <td>B</td>\n",
       "      <td>MANHATTAN</td>\n",
       "    </tr>\n",
       "    <tr>\n",
       "      <th>3</th>\n",
       "      <td>2015</td>\n",
       "      <td>MIDS</td>\n",
       "      <td>M</td>\n",
       "      <td>B</td>\n",
       "      <td>MANHATTAN</td>\n",
       "    </tr>\n",
       "    <tr>\n",
       "      <th>4</th>\n",
       "      <td>2015</td>\n",
       "      <td>MISD</td>\n",
       "      <td>M</td>\n",
       "      <td>B</td>\n",
       "      <td>MANHATTAN</td>\n",
       "    </tr>\n",
       "  </tbody>\n",
       "</table>\n",
       "</div>"
      ],
      "text/plain": [
       "                    year crimsusp sex race       city\n",
       "NYFrisk_2015_df  0  2015   FELONY   M    W   BROOKLYN\n",
       "                 1  2015   FELONY   M    B  MANHATTAN\n",
       "                 2  2015     MISD   M    B  MANHATTAN\n",
       "                 3  2015     MIDS   M    B  MANHATTAN\n",
       "                 4  2015     MISD   M    B  MANHATTAN"
      ]
     },
     "execution_count": 111,
     "metadata": {},
     "output_type": "execute_result"
    }
   ],
   "source": [
    "#merge data 2015-2019\n",
    "frames = [NYFrisk_2015_df,frisk_2016_filtered,frisk_2017_filtered\n",
    ",frisk_2018_filtered\n",
    ",NYFrisk_2019_df ]\n",
    "merged_frisk = pd.concat(frames, keys=['NYFrisk_2015_df ', 'frisk_2016_filtered', 'frisk_2017_filtered'\n",
    "                                      ,'frisk_2018_filtered','frisk_2019_filtered'])\n",
    "\n",
    "merged_frisk.head()"
   ]
  },
  {
   "cell_type": "code",
   "execution_count": 105,
   "metadata": {},
   "outputs": [
    {
     "data": {
      "text/html": [
       "<div>\n",
       "<style scoped>\n",
       "    .dataframe tbody tr th:only-of-type {\n",
       "        vertical-align: middle;\n",
       "    }\n",
       "\n",
       "    .dataframe tbody tr th {\n",
       "        vertical-align: top;\n",
       "    }\n",
       "\n",
       "    .dataframe thead th {\n",
       "        text-align: right;\n",
       "    }\n",
       "</style>\n",
       "<table border=\"1\" class=\"dataframe\">\n",
       "  <thead>\n",
       "    <tr style=\"text-align: right;\">\n",
       "      <th></th>\n",
       "      <th>ARREST_KEY</th>\n",
       "      <th>ARREST_DATE</th>\n",
       "      <th>PD_DESC</th>\n",
       "      <th>OFNS_DESC</th>\n",
       "      <th>ARREST_BORO</th>\n",
       "      <th>AGE_GROUP</th>\n",
       "      <th>PERP_SEX</th>\n",
       "      <th>PERP_SEX</th>\n",
       "      <th>PERP_RACE</th>\n",
       "    </tr>\n",
       "  </thead>\n",
       "  <tbody>\n",
       "    <tr>\n",
       "      <th>0</th>\n",
       "      <td>190294601</td>\n",
       "      <td>11/23/2018</td>\n",
       "      <td>ASSAULT 2,1,UNCLASSIFIED</td>\n",
       "      <td>FELONY ASSAULT</td>\n",
       "      <td>B</td>\n",
       "      <td>25-44</td>\n",
       "      <td>M</td>\n",
       "      <td>M</td>\n",
       "      <td>BLACK</td>\n",
       "    </tr>\n",
       "    <tr>\n",
       "      <th>1</th>\n",
       "      <td>190266280</td>\n",
       "      <td>11/21/2018</td>\n",
       "      <td>0</td>\n",
       "      <td>0</td>\n",
       "      <td>Q</td>\n",
       "      <td>25-44</td>\n",
       "      <td>M</td>\n",
       "      <td>M</td>\n",
       "      <td>BLACK HISPANIC</td>\n",
       "    </tr>\n",
       "    <tr>\n",
       "      <th>2</th>\n",
       "      <td>190159521</td>\n",
       "      <td>11/19/2018</td>\n",
       "      <td>ASSAULT 3</td>\n",
       "      <td>ASSAULT 3 &amp; RELATED OFFENSES</td>\n",
       "      <td>K</td>\n",
       "      <td>25-44</td>\n",
       "      <td>M</td>\n",
       "      <td>M</td>\n",
       "      <td>BLACK</td>\n",
       "    </tr>\n",
       "    <tr>\n",
       "      <th>3</th>\n",
       "      <td>190080571</td>\n",
       "      <td>11/16/2018</td>\n",
       "      <td>0</td>\n",
       "      <td>0</td>\n",
       "      <td>Q</td>\n",
       "      <td>18-24</td>\n",
       "      <td>M</td>\n",
       "      <td>M</td>\n",
       "      <td>BLACK</td>\n",
       "    </tr>\n",
       "    <tr>\n",
       "      <th>4</th>\n",
       "      <td>190027735</td>\n",
       "      <td>11/15/2018</td>\n",
       "      <td>0</td>\n",
       "      <td>0</td>\n",
       "      <td>M</td>\n",
       "      <td>45-64</td>\n",
       "      <td>M</td>\n",
       "      <td>M</td>\n",
       "      <td>WHITE HISPANIC</td>\n",
       "    </tr>\n",
       "  </tbody>\n",
       "</table>\n",
       "</div>"
      ],
      "text/plain": [
       "   ARREST_KEY ARREST_DATE                   PD_DESC  \\\n",
       "0   190294601  11/23/2018  ASSAULT 2,1,UNCLASSIFIED   \n",
       "1   190266280  11/21/2018                         0   \n",
       "2   190159521  11/19/2018                 ASSAULT 3   \n",
       "3   190080571  11/16/2018                         0   \n",
       "4   190027735  11/15/2018                         0   \n",
       "\n",
       "                      OFNS_DESC ARREST_BORO AGE_GROUP PERP_SEX PERP_SEX  \\\n",
       "0                FELONY ASSAULT           B     25-44        M        M   \n",
       "1                             0           Q     25-44        M        M   \n",
       "2  ASSAULT 3 & RELATED OFFENSES           K     25-44        M        M   \n",
       "3                             0           Q     18-24        M        M   \n",
       "4                             0           M     45-64        M        M   \n",
       "\n",
       "        PERP_RACE  \n",
       "0           BLACK  \n",
       "1  BLACK HISPANIC  \n",
       "2           BLACK  \n",
       "3           BLACK  \n",
       "4  WHITE HISPANIC  "
      ]
     },
     "execution_count": 105,
     "metadata": {},
     "output_type": "execute_result"
    }
   ],
   "source": [
    "clean_metro_NY_filtered=metro_NY_df.fillna(0)\n",
    "\n",
    "clean_metro_NY_cols = [\"ARREST_KEY\",\"ARREST_DATE\",\"PD_DESC\",\"OFNS_DESC\",\"ARREST_BORO\",\"AGE_GROUP\",\"PERP_SEX\",\"PERP_SEX\"\n",
    "                      ,\"PERP_RACE\"]\n",
    "clean_metro_NY_filtered = clean_metro_NY[clean_metro_NY_cols].copy()\n",
    "clean_metro_NY_filtered.head()"
   ]
  },
  {
   "cell_type": "code",
   "execution_count": 41,
   "metadata": {},
   "outputs": [],
   "source": [
    "##cleaning data by zero fill NAN\n",
    "\n",
    "clean_deaths_arrest = deaths_arrests_df.fillna(0)"
   ]
  },
  {
   "cell_type": "code",
   "execution_count": 109,
   "metadata": {},
   "outputs": [
    {
     "data": {
      "text/html": [
       "<div>\n",
       "<style scoped>\n",
       "    .dataframe tbody tr th:only-of-type {\n",
       "        vertical-align: middle;\n",
       "    }\n",
       "\n",
       "    .dataframe tbody tr th {\n",
       "        vertical-align: top;\n",
       "    }\n",
       "\n",
       "    .dataframe thead th {\n",
       "        text-align: right;\n",
       "    }\n",
       "</style>\n",
       "<table border=\"1\" class=\"dataframe\">\n",
       "  <thead>\n",
       "    <tr style=\"text-align: right;\">\n",
       "      <th></th>\n",
       "      <th>Subject's name</th>\n",
       "      <th>Subject's age</th>\n",
       "      <th>Subject's gender</th>\n",
       "      <th>Subject's race</th>\n",
       "      <th>Cause of death</th>\n",
       "      <th>Symptoms of mental illness? INTERNAL USE, NOT FOR ANALYSIS</th>\n",
       "      <th>Date of injury resulting in death (month/day/year)</th>\n",
       "      <th>Date (Year)</th>\n",
       "    </tr>\n",
       "  </thead>\n",
       "  <tbody>\n",
       "    <tr>\n",
       "      <th>0</th>\n",
       "      <td>Mark A. Horton</td>\n",
       "      <td>21</td>\n",
       "      <td>Male</td>\n",
       "      <td>African-American/Black</td>\n",
       "      <td>Vehicle</td>\n",
       "      <td>No</td>\n",
       "      <td>01/01/2000</td>\n",
       "      <td>2000</td>\n",
       "    </tr>\n",
       "    <tr>\n",
       "      <th>1</th>\n",
       "      <td>Phillip A. Blurbridge</td>\n",
       "      <td>19</td>\n",
       "      <td>Male</td>\n",
       "      <td>African-American/Black</td>\n",
       "      <td>Vehicle</td>\n",
       "      <td>No</td>\n",
       "      <td>01/01/2000</td>\n",
       "      <td>2000</td>\n",
       "    </tr>\n",
       "    <tr>\n",
       "      <th>2</th>\n",
       "      <td>Samuel H. Knapp</td>\n",
       "      <td>17</td>\n",
       "      <td>Male</td>\n",
       "      <td>European-American/White</td>\n",
       "      <td>Vehicle</td>\n",
       "      <td>No</td>\n",
       "      <td>01/01/2000</td>\n",
       "      <td>2000</td>\n",
       "    </tr>\n",
       "    <tr>\n",
       "      <th>3</th>\n",
       "      <td>Mark Ortiz</td>\n",
       "      <td>23</td>\n",
       "      <td>Male</td>\n",
       "      <td>Hispanic/Latino</td>\n",
       "      <td>Vehicle</td>\n",
       "      <td>No</td>\n",
       "      <td>01/01/2000</td>\n",
       "      <td>2000</td>\n",
       "    </tr>\n",
       "    <tr>\n",
       "      <th>4</th>\n",
       "      <td>LaTanya Janelle McCoy</td>\n",
       "      <td>24</td>\n",
       "      <td>Female</td>\n",
       "      <td>African-American/Black</td>\n",
       "      <td>Vehicle</td>\n",
       "      <td>No</td>\n",
       "      <td>01/02/2000</td>\n",
       "      <td>2000</td>\n",
       "    </tr>\n",
       "  </tbody>\n",
       "</table>\n",
       "</div>"
      ],
      "text/plain": [
       "          Subject's name Subject's age Subject's gender  \\\n",
       "0         Mark A. Horton            21             Male   \n",
       "1  Phillip A. Blurbridge            19             Male   \n",
       "2        Samuel H. Knapp            17             Male   \n",
       "3             Mark Ortiz            23             Male   \n",
       "4  LaTanya Janelle McCoy            24           Female   \n",
       "\n",
       "            Subject's race Cause of death  \\\n",
       "0   African-American/Black        Vehicle   \n",
       "1   African-American/Black        Vehicle   \n",
       "2  European-American/White        Vehicle   \n",
       "3          Hispanic/Latino        Vehicle   \n",
       "4   African-American/Black        Vehicle   \n",
       "\n",
       "  Symptoms of mental illness? INTERNAL USE, NOT FOR ANALYSIS  \\\n",
       "0                                                 No           \n",
       "1                                                 No           \n",
       "2                                                 No           \n",
       "3                                                 No           \n",
       "4                                                 No           \n",
       "\n",
       "  Date of injury resulting in death (month/day/year) Date (Year)  \n",
       "0                                         01/01/2000        2000  \n",
       "1                                         01/01/2000        2000  \n",
       "2                                         01/01/2000        2000  \n",
       "3                                         01/01/2000        2000  \n",
       "4                                         01/02/2000        2000  "
      ]
     },
     "execution_count": 109,
     "metadata": {},
     "output_type": "execute_result"
    }
   ],
   "source": [
    "#cleaning data/Dropping columns with incomplete data sets\n",
    "clean_fatal_encouters= fatal_encouters_df[[\"Subject's name\", \"Subject's age\", \"Subject's gender\", \"Subject's race\",\n",
    "                                                    \"Cause of death\", \"Symptoms of mental illness? INTERNAL USE, NOT FOR ANALYSIS\", \"Date of injury resulting in death (month/day/year)\",\"Date (Year)\"]]\n",
    "clean_fatal_encouters.head()"
   ]
  },
  {
   "cell_type": "code",
   "execution_count": 110,
   "metadata": {},
   "outputs": [
    {
     "data": {
      "text/html": [
       "<div>\n",
       "<style scoped>\n",
       "    .dataframe tbody tr th:only-of-type {\n",
       "        vertical-align: middle;\n",
       "    }\n",
       "\n",
       "    .dataframe tbody tr th {\n",
       "        vertical-align: top;\n",
       "    }\n",
       "\n",
       "    .dataframe thead th {\n",
       "        text-align: right;\n",
       "    }\n",
       "</style>\n",
       "<table border=\"1\" class=\"dataframe\">\n",
       "  <thead>\n",
       "    <tr style=\"text-align: right;\">\n",
       "      <th></th>\n",
       "      <th>Victim's age</th>\n",
       "      <th>Victim's gender</th>\n",
       "      <th>Victim's race</th>\n",
       "      <th>Date of Incident (month/day/year)</th>\n",
       "      <th>City</th>\n",
       "      <th>State</th>\n",
       "      <th>Zipcode</th>\n",
       "    </tr>\n",
       "  </thead>\n",
       "  <tbody>\n",
       "    <tr>\n",
       "      <th>0</th>\n",
       "      <td>28</td>\n",
       "      <td>Male</td>\n",
       "      <td>White</td>\n",
       "      <td>31/12/2019</td>\n",
       "      <td>Globe</td>\n",
       "      <td>AZ</td>\n",
       "      <td>85501.0</td>\n",
       "    </tr>\n",
       "    <tr>\n",
       "      <th>2</th>\n",
       "      <td>57</td>\n",
       "      <td>Male</td>\n",
       "      <td>Black</td>\n",
       "      <td>31/12/2019</td>\n",
       "      <td>Omaha</td>\n",
       "      <td>NE</td>\n",
       "      <td>68110.0</td>\n",
       "    </tr>\n",
       "    <tr>\n",
       "      <th>3</th>\n",
       "      <td>23</td>\n",
       "      <td>Male</td>\n",
       "      <td>Black</td>\n",
       "      <td>31/12/2019</td>\n",
       "      <td>Federal Way</td>\n",
       "      <td>WA</td>\n",
       "      <td>98003.0</td>\n",
       "    </tr>\n",
       "    <tr>\n",
       "      <th>4</th>\n",
       "      <td>37</td>\n",
       "      <td>Male</td>\n",
       "      <td>Black</td>\n",
       "      <td>31/12/2019</td>\n",
       "      <td>Chesterfield</td>\n",
       "      <td>MO</td>\n",
       "      <td>63005.0</td>\n",
       "    </tr>\n",
       "    <tr>\n",
       "      <th>5</th>\n",
       "      <td>49</td>\n",
       "      <td>Male</td>\n",
       "      <td>White</td>\n",
       "      <td>31/12/2019</td>\n",
       "      <td>Cross Lanes</td>\n",
       "      <td>WV</td>\n",
       "      <td>25313.0</td>\n",
       "    </tr>\n",
       "  </tbody>\n",
       "</table>\n",
       "</div>"
      ],
      "text/plain": [
       "  Victim's age Victim's gender Victim's race  \\\n",
       "0           28            Male         White   \n",
       "2           57            Male         Black   \n",
       "3           23            Male         Black   \n",
       "4           37            Male         Black   \n",
       "5           49            Male         White   \n",
       "\n",
       "  Date of Incident (month/day/year)          City State  Zipcode  \n",
       "0                        31/12/2019         Globe    AZ  85501.0  \n",
       "2                        31/12/2019         Omaha    NE  68110.0  \n",
       "3                        31/12/2019   Federal Way    WA  98003.0  \n",
       "4                        31/12/2019  Chesterfield    MO  63005.0  \n",
       "5                        31/12/2019   Cross Lanes    WV  25313.0  "
      ]
     },
     "execution_count": 110,
     "metadata": {},
     "output_type": "execute_result"
    }
   ],
   "source": [
    "##cleaning data by zero fill NAN\n",
    "clean_killings_df = killings_df.fillna(0)\n",
    "clean_killings_df.head()\n",
    "\n",
    "#cleaning data/Dropping columns with incomplete data sets\n",
    "Cleankillings_df= killings_df[[\"Victim's age\", \"Victim's gender\", \"Victim's race\", \"Date of Incident (month/day/year)\",\n",
    "                                                 \"City\", \"State\", \"Zipcode\"]]\n",
    "Cleankillings_df.head(35)\n",
    "\n",
    "#Additional cleaning of data by dropping nan\n",
    "newCleankillings_df_df= killings_df[[\"Victim's age\", \"Victim's gender\", \"Victim's race\", \"Date of Incident (month/day/year)\",\n",
    "                                                 \"City\", \"State\", \"Zipcode\"]]\n",
    "newCleankillings_df=Cleankillings_df.dropna()\n",
    "newCleankillings_df.head()\n",
    "\n"
   ]
  },
  {
   "cell_type": "code",
   "execution_count": 112,
   "metadata": {},
   "outputs": [
    {
     "data": {
      "text/html": [
       "<div>\n",
       "<style scoped>\n",
       "    .dataframe tbody tr th:only-of-type {\n",
       "        vertical-align: middle;\n",
       "    }\n",
       "\n",
       "    .dataframe tbody tr th {\n",
       "        vertical-align: top;\n",
       "    }\n",
       "\n",
       "    .dataframe thead th {\n",
       "        text-align: right;\n",
       "    }\n",
       "</style>\n",
       "<table border=\"1\" class=\"dataframe\">\n",
       "  <thead>\n",
       "    <tr style=\"text-align: right;\">\n",
       "      <th></th>\n",
       "      <th>Area</th>\n",
       "      <th>Republican Vote Share</th>\n",
       "      <th>Partisan Segregation</th>\n",
       "    </tr>\n",
       "  </thead>\n",
       "  <tbody>\n",
       "    <tr>\n",
       "      <th>0</th>\n",
       "      <td>Jackson, Mississippi</td>\n",
       "      <td>0.399</td>\n",
       "      <td>0.63</td>\n",
       "    </tr>\n",
       "    <tr>\n",
       "      <th>1</th>\n",
       "      <td>New Orleans</td>\n",
       "      <td>0.416</td>\n",
       "      <td>0.58</td>\n",
       "    </tr>\n",
       "    <tr>\n",
       "      <th>2</th>\n",
       "      <td>Baton Rouge, Louisiana</td>\n",
       "      <td>0.497</td>\n",
       "      <td>0.56</td>\n",
       "    </tr>\n",
       "    <tr>\n",
       "      <th>3</th>\n",
       "      <td>Birmingham, Alabama</td>\n",
       "      <td>0.455</td>\n",
       "      <td>0.56</td>\n",
       "    </tr>\n",
       "    <tr>\n",
       "      <th>4</th>\n",
       "      <td>Shreveport, Louisiana</td>\n",
       "      <td>0.444</td>\n",
       "      <td>0.56</td>\n",
       "    </tr>\n",
       "  </tbody>\n",
       "</table>\n",
       "</div>"
      ],
      "text/plain": [
       "                     Area  Republican Vote Share  Partisan Segregation\n",
       "0    Jackson, Mississippi                  0.399                  0.63\n",
       "1             New Orleans                  0.416                  0.58\n",
       "2  Baton Rouge, Louisiana                  0.497                  0.56\n",
       "3     Birmingham, Alabama                  0.455                  0.56\n",
       "4   Shreveport, Louisiana                  0.444                  0.56"
      ]
     },
     "execution_count": 112,
     "metadata": {},
     "output_type": "execute_result"
    }
   ],
   "source": [
    "politics_df.head()"
   ]
  },
  {
   "cell_type": "code",
   "execution_count": 113,
   "metadata": {},
   "outputs": [
    {
     "data": {
      "text/html": [
       "<div>\n",
       "<style scoped>\n",
       "    .dataframe tbody tr th:only-of-type {\n",
       "        vertical-align: middle;\n",
       "    }\n",
       "\n",
       "    .dataframe tbody tr th {\n",
       "        vertical-align: top;\n",
       "    }\n",
       "\n",
       "    .dataframe thead th {\n",
       "        text-align: right;\n",
       "    }\n",
       "</style>\n",
       "<table border=\"1\" class=\"dataframe\">\n",
       "  <thead>\n",
       "    <tr style=\"text-align: right;\">\n",
       "      <th></th>\n",
       "      <th>id</th>\n",
       "      <th>name</th>\n",
       "      <th>date</th>\n",
       "      <th>manner_of_death</th>\n",
       "      <th>armed</th>\n",
       "      <th>age</th>\n",
       "      <th>gender</th>\n",
       "      <th>race</th>\n",
       "      <th>city</th>\n",
       "      <th>state</th>\n",
       "      <th>signs_of_mental_illness</th>\n",
       "      <th>threat_level</th>\n",
       "      <th>flee</th>\n",
       "      <th>body_camera</th>\n",
       "    </tr>\n",
       "  </thead>\n",
       "  <tbody>\n",
       "    <tr>\n",
       "      <th>0</th>\n",
       "      <td>3</td>\n",
       "      <td>Tim Elliot</td>\n",
       "      <td>2015-01-02</td>\n",
       "      <td>shot</td>\n",
       "      <td>gun</td>\n",
       "      <td>53.0</td>\n",
       "      <td>M</td>\n",
       "      <td>A</td>\n",
       "      <td>Shelton</td>\n",
       "      <td>WA</td>\n",
       "      <td>True</td>\n",
       "      <td>attack</td>\n",
       "      <td>Not fleeing</td>\n",
       "      <td>False</td>\n",
       "    </tr>\n",
       "    <tr>\n",
       "      <th>1</th>\n",
       "      <td>4</td>\n",
       "      <td>Lewis Lee Lembke</td>\n",
       "      <td>2015-01-02</td>\n",
       "      <td>shot</td>\n",
       "      <td>gun</td>\n",
       "      <td>47.0</td>\n",
       "      <td>M</td>\n",
       "      <td>W</td>\n",
       "      <td>Aloha</td>\n",
       "      <td>OR</td>\n",
       "      <td>False</td>\n",
       "      <td>attack</td>\n",
       "      <td>Not fleeing</td>\n",
       "      <td>False</td>\n",
       "    </tr>\n",
       "    <tr>\n",
       "      <th>2</th>\n",
       "      <td>5</td>\n",
       "      <td>John Paul Quintero</td>\n",
       "      <td>2015-01-03</td>\n",
       "      <td>shot and Tasered</td>\n",
       "      <td>unarmed</td>\n",
       "      <td>23.0</td>\n",
       "      <td>M</td>\n",
       "      <td>H</td>\n",
       "      <td>Wichita</td>\n",
       "      <td>KS</td>\n",
       "      <td>False</td>\n",
       "      <td>other</td>\n",
       "      <td>Not fleeing</td>\n",
       "      <td>False</td>\n",
       "    </tr>\n",
       "    <tr>\n",
       "      <th>3</th>\n",
       "      <td>8</td>\n",
       "      <td>Matthew Hoffman</td>\n",
       "      <td>2015-01-04</td>\n",
       "      <td>shot</td>\n",
       "      <td>toy weapon</td>\n",
       "      <td>32.0</td>\n",
       "      <td>M</td>\n",
       "      <td>W</td>\n",
       "      <td>San Francisco</td>\n",
       "      <td>CA</td>\n",
       "      <td>True</td>\n",
       "      <td>attack</td>\n",
       "      <td>Not fleeing</td>\n",
       "      <td>False</td>\n",
       "    </tr>\n",
       "    <tr>\n",
       "      <th>4</th>\n",
       "      <td>9</td>\n",
       "      <td>Michael Rodriguez</td>\n",
       "      <td>2015-01-04</td>\n",
       "      <td>shot</td>\n",
       "      <td>nail gun</td>\n",
       "      <td>39.0</td>\n",
       "      <td>M</td>\n",
       "      <td>H</td>\n",
       "      <td>Evans</td>\n",
       "      <td>CO</td>\n",
       "      <td>False</td>\n",
       "      <td>attack</td>\n",
       "      <td>Not fleeing</td>\n",
       "      <td>False</td>\n",
       "    </tr>\n",
       "  </tbody>\n",
       "</table>\n",
       "</div>"
      ],
      "text/plain": [
       "   id                name        date   manner_of_death       armed   age  \\\n",
       "0   3          Tim Elliot  2015-01-02              shot         gun  53.0   \n",
       "1   4    Lewis Lee Lembke  2015-01-02              shot         gun  47.0   \n",
       "2   5  John Paul Quintero  2015-01-03  shot and Tasered     unarmed  23.0   \n",
       "3   8     Matthew Hoffman  2015-01-04              shot  toy weapon  32.0   \n",
       "4   9   Michael Rodriguez  2015-01-04              shot    nail gun  39.0   \n",
       "\n",
       "  gender race           city state  signs_of_mental_illness threat_level  \\\n",
       "0      M    A        Shelton    WA                     True       attack   \n",
       "1      M    W          Aloha    OR                    False       attack   \n",
       "2      M    H        Wichita    KS                    False        other   \n",
       "3      M    W  San Francisco    CA                     True       attack   \n",
       "4      M    H          Evans    CO                    False       attack   \n",
       "\n",
       "          flee  body_camera  \n",
       "0  Not fleeing        False  \n",
       "1  Not fleeing        False  \n",
       "2  Not fleeing        False  \n",
       "3  Not fleeing        False  \n",
       "4  Not fleeing        False  "
      ]
     },
     "execution_count": 113,
     "metadata": {},
     "output_type": "execute_result"
    }
   ],
   "source": [
    "wash_post_shootings_df.head()"
   ]
  },
  {
   "cell_type": "markdown",
   "metadata": {},
   "source": [
    "## create database connection with mongodb\n"
   ]
  },
  {
   "cell_type": "code",
   "execution_count": 44,
   "metadata": {},
   "outputs": [],
   "source": [
    "#merged_frisk\n",
    "#clean_metro_NY\n",
    "#clean_deaths_arrest\n",
    "#clean_fatal_encouters\n",
    "#fatal_shootings_df\n",
    "#clean_killings_df\n",
    "#politics_df\n",
    "#wash_post_shootings_df\n"
   ]
  },
  {
   "cell_type": "code",
   "execution_count": 45,
   "metadata": {},
   "outputs": [],
   "source": [
    "conn = 'mongodb://localhost:27017'\n",
    "client = pymongo.MongoClient(conn)"
   ]
  },
  {
   "cell_type": "markdown",
   "metadata": {},
   "source": [
    "## load dataframes to database"
   ]
  },
  {
   "cell_type": "code",
   "execution_count": null,
   "metadata": {},
   "outputs": [],
   "source": [
    "#merged_frisk\n",
    "\n",
    "db = client['police_db']\n",
    "collection = db['merged_frisk']\n",
    "merged_frisk.reset_index(inplace=True)\n",
    "merged_frisk_dict = merged_frisk.to_dict(\"records\")\n",
    "#insert collection\n",
    "collection.insert_many(merged_frisk_dict)"
   ]
  },
  {
   "cell_type": "code",
   "execution_count": 106,
   "metadata": {},
   "outputs": [
    {
     "name": "stderr",
     "output_type": "stream",
     "text": [
      "/Users/applewang/opt/anaconda3/lib/python3.7/site-packages/ipykernel_launcher.py:6: UserWarning: DataFrame columns are not unique, some columns will be omitted.\n",
      "  \n"
     ]
    },
    {
     "data": {
      "text/plain": [
       "<pymongo.results.InsertManyResult at 0x144e67d20>"
      ]
     },
     "execution_count": 106,
     "metadata": {},
     "output_type": "execute_result"
    }
   ],
   "source": [
    "#clean_metro_NY\n",
    "\n",
    "db = client['police_db']\n",
    "collection = db['metro_NY']\n",
    "clean_metro_NY_filtered.reset_index(inplace=True)\n",
    "clean_metro_NY_filtered_dict = clean_metro_NY_filtered.to_dict(\"records\")\n",
    "\n",
    "#insert collection\n",
    "collection.insert_many(clean_metro_NY_filtered_dict)"
   ]
  },
  {
   "cell_type": "code",
   "execution_count": 69,
   "metadata": {},
   "outputs": [],
   "source": [
    "#rename coloumns \n",
    "\n",
    "clean_deaths_arrest=clean_deaths_arrest.rename(columns={'Amer. Indian': 'Amer/Indian'})"
   ]
  },
  {
   "cell_type": "code",
   "execution_count": 70,
   "metadata": {},
   "outputs": [
    {
     "data": {
      "text/plain": [
       "<pymongo.results.InsertManyResult at 0x166314e10>"
      ]
     },
     "execution_count": 70,
     "metadata": {},
     "output_type": "execute_result"
    }
   ],
   "source": [
    "#clean_deaths_arrest\n",
    "db = client['police_db']\n",
    "collection = db['deaths_arrest']\n",
    "clean_deaths_arrest.reset_index(inplace=True)\n",
    "clean_deaths_arrest_dict = clean_deaths_arrest.to_dict(\"records\")\n",
    "\n",
    "#insert collection\n",
    "collection.insert_many(clean_deaths_arrest_dict)"
   ]
  },
  {
   "cell_type": "code",
   "execution_count": 48,
   "metadata": {},
   "outputs": [
    {
     "data": {
      "text/plain": [
       "<pymongo.results.InsertManyResult at 0x15b8b0280>"
      ]
     },
     "execution_count": 48,
     "metadata": {},
     "output_type": "execute_result"
    }
   ],
   "source": [
    "\n",
    "#clean_fatal_encouters\n",
    "\n",
    "db = client['police_db']\n",
    "collection = db['fatal_encouters']\n",
    "clean_fatal_encouters.reset_index(inplace=True)\n",
    "clean_fatal_encouters_dict = clean_fatal_encouters.to_dict(\"records\")\n",
    "\n",
    "#insert collection\n",
    "collection.insert_many(clean_fatal_encouters_dict)"
   ]
  },
  {
   "cell_type": "code",
   "execution_count": 49,
   "metadata": {},
   "outputs": [
    {
     "data": {
      "text/plain": [
       "<pymongo.results.InsertManyResult at 0x15afb12d0>"
      ]
     },
     "execution_count": 49,
     "metadata": {},
     "output_type": "execute_result"
    }
   ],
   "source": [
    "#fatal_shootings_df\n",
    "\n",
    "\n",
    "db = client['police_db']\n",
    "collection = db['fatal_shootings_df']\n",
    "fatal_shootings_df.reset_index(inplace=True)\n",
    "fatal_shootings_df_dict = fatal_shootings_df.to_dict(\"records\")\n",
    "\n",
    "#insert collection\n",
    "collection.insert_many(fatal_shootings_df_dict)"
   ]
  },
  {
   "cell_type": "code",
   "execution_count": 80,
   "metadata": {},
   "outputs": [],
   "source": [
    "#rename coloumns \n",
    "\n",
    "\n",
    "clean_killings_df=clean_killings_df.rename(columns={'Geography (via Trulia methodology based on zipcode population density: http://jedkolko.com/wp-content/uploads/2015/05/full-ZCTA-urban-suburban-rural-classification.xlsx )': 'Geography'})\n",
    "\n",
    "\n",
    "\n",
    "\n",
    "\n",
    "\n"
   ]
  },
  {
   "cell_type": "code",
   "execution_count": 108,
   "metadata": {},
   "outputs": [
    {
     "data": {
      "text/plain": [
       "<pymongo.results.InsertManyResult at 0x3278f4cd0>"
      ]
     },
     "execution_count": 108,
     "metadata": {},
     "output_type": "execute_result"
    }
   ],
   "source": [
    "#newCleankillings_df\n",
    "\n",
    "db = client['police_db']\n",
    "collection = db['police_killings']\n",
    "newCleankillings_df_df.reset_index(inplace=True)\n",
    "newCleankillings_df_dict = newCleankillings_df.to_dict(\"records\")\n",
    "\n",
    "#insert collection\n",
    "collection.insert_many(newCleankillings_df_dict )"
   ]
  },
  {
   "cell_type": "code",
   "execution_count": 51,
   "metadata": {},
   "outputs": [
    {
     "data": {
      "text/plain": [
       "<pymongo.results.InsertManyResult at 0x16604ff50>"
      ]
     },
     "execution_count": 51,
     "metadata": {},
     "output_type": "execute_result"
    }
   ],
   "source": [
    "#politics_df\n",
    "\n",
    "\n",
    "db = client['police_db']\n",
    "collection = db['politics']\n",
    "politics_df.reset_index(inplace=True)\n",
    "politics_df_dict = politics_df.to_dict(\"records\")\n",
    "\n",
    "#insert collection\n",
    "collection.insert_many(politics_df_dict)"
   ]
  },
  {
   "cell_type": "code",
   "execution_count": 52,
   "metadata": {},
   "outputs": [
    {
     "data": {
      "text/plain": [
       "<pymongo.results.InsertManyResult at 0x1665b65a0>"
      ]
     },
     "execution_count": 52,
     "metadata": {},
     "output_type": "execute_result"
    }
   ],
   "source": [
    "#wash_post_shootings_df\n",
    "\n",
    "db = client['police_db']\n",
    "collection = db['wash_post_shootings']\n",
    "wash_post_shootings_df.reset_index(inplace=True)\n",
    "wash_post_shootings_df_dict = wash_post_shootings_df.to_dict(\"records\")\n",
    "\n",
    "#insert collection\n",
    "collection.insert_many(wash_post_shootings_df_dict)"
   ]
  },
  {
   "cell_type": "code",
   "execution_count": null,
   "metadata": {},
   "outputs": [],
   "source": []
  },
  {
   "cell_type": "code",
   "execution_count": null,
   "metadata": {},
   "outputs": [],
   "source": []
  }
 ],
 "metadata": {
  "kernelspec": {
   "display_name": "Python 3",
   "language": "python",
   "name": "python3"
  },
  "language_info": {
   "codemirror_mode": {
    "name": "ipython",
    "version": 3
   },
   "file_extension": ".py",
   "mimetype": "text/x-python",
   "name": "python",
   "nbconvert_exporter": "python",
   "pygments_lexer": "ipython3",
   "version": "3.7.6"
  }
 },
 "nbformat": 4,
 "nbformat_minor": 4
}
