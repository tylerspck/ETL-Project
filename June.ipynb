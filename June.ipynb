{
 "cells": [
  {
   "cell_type": "code",
   "execution_count": 32,
   "metadata": {},
   "outputs": [],
   "source": [
    "import pandas as pd\n",
    "from sqlalchemy import create_engine\n",
    "import numpy as np\n",
    "import pymongo"
   ]
  },
  {
   "cell_type": "markdown",
   "metadata": {},
   "source": [
    "## read raw csv files"
   ]
  },
  {
   "cell_type": "code",
   "execution_count": 33,
   "metadata": {},
   "outputs": [],
   "source": [
    "\n",
    "metro_NY_file = 'Police Dataset/Large_metro_areas/NYPD_Arrests_Data__Historic_.csv'\n",
    "NYFrisk_2015_file = 'Police Dataset/NYC_stop_frisk/sqf-2015.csv'\n",
    "NYFrisk_2016_file = 'Police Dataset/NYC_stop_frisk/sqf-2016.csv'\n",
    "NYFrisk_2017_file = 'Police Dataset/NYC_stop_frisk/sqf-2017.csv'\n",
    "NYFrisk_2018_file = 'Police Dataset/NYC_stop_frisk/sqf-2018.csv'\n",
    "NYFrisk_2019_file = 'Police Dataset/NYC_stop_frisk/sqf-2019.csv'\n",
    "\n",
    "deaths_arrests_file = 'Police Dataset/deaths_arrests_race.csv'\n",
    "\n",
    "\n",
    "fatal_encouters_file = 'Police Dataset/fatal_encounters_dot_org.csv'\n",
    "fatal_shootings_file = 'Police Dataset/fatal-police-shootings-data.csv'\n",
    "\n",
    "contracts_file = 'Police Dataset/police_contracts.csv'\n",
    "\n",
    "killings_file = 'Police Dataset/police_killings.csv'\n",
    "\n",
    "\n",
    "wash_post_shootings_file = 'Police Dataset/shootings_wash_post.csv'\n",
    "\n",
    "politics_file = 'Police Dataset/politics_538.csv'\n",
    "politics_df = pd.read_csv(politics_file)"
   ]
  },
  {
   "cell_type": "code",
   "execution_count": 34,
   "metadata": {},
   "outputs": [],
   "source": [
    "\n",
    "metro_NY_df = pd.read_csv(metro_NY_file)\n",
    "NYFrisk_2015_df = pd.read_csv(NYFrisk_2015_file)\n",
    "NYFrisk_2016_df = pd.read_csv(NYFrisk_2016_file)\n",
    "NYFrisk_2017_df = pd.read_csv(NYFrisk_2017_file)\n",
    "NYFrisk_2018_df = pd.read_csv(NYFrisk_2018_file)\n",
    "NYFrisk_2019_df = pd.read_csv(NYFrisk_2019_file)\n",
    "\n",
    "deaths_arrests_df = pd.read_csv(deaths_arrests_file)\n",
    "\n",
    "\n",
    "fatal_encouters_df = pd.read_csv(fatal_encouters_file)\n",
    "fatal_shootings_df = pd.read_csv(fatal_shootings_file)\n",
    "\n",
    "\n",
    "\n",
    "killings_df = pd.read_csv(killings_file)\n",
    "\n",
    "\n",
    "\n",
    "wash_post_shootings_df = pd.read_csv(wash_post_shootings_file)\n",
    "\n"
   ]
  },
  {
   "cell_type": "markdown",
   "metadata": {},
   "source": [
    "## start cleaning data frames"
   ]
  },
  {
   "cell_type": "code",
   "execution_count": 35,
   "metadata": {},
   "outputs": [],
   "source": [
    "#NYFrisk_2015_df \n",
    "#frisk_2016_filtered\n",
    "#frisk_2017_filtered\n",
    "#frisk_2018_filtered\n",
    "#NYFrisk_2019_df \n",
    "\n",
    "\n",
    "\n",
    "#cleaned data frames:\n",
    "\n",
    "#merged_frisk\n",
    "#clean_metro_NY\n",
    "#clean_deaths_arrest\n",
    "#clean_fatal_encouters\n",
    "#fatal_shootings_df\n",
    "#clean_killings_df\n",
    "#politics_df\n",
    "#wash_post_shootings_df\n"
   ]
  },
  {
   "cell_type": "code",
   "execution_count": 36,
   "metadata": {},
   "outputs": [],
   "source": [
    "frisk_2016_cols = [\"year\",\"crimsusp\",\"sex\",\"race\",\"city\"]\n",
    "frisk_2016_filtered = NYFrisk_2016_df[frisk_2016_cols].copy()\n"
   ]
  },
  {
   "cell_type": "code",
   "execution_count": 37,
   "metadata": {},
   "outputs": [],
   "source": [
    "frisk_2017_cols = [\"year\",\"crimsusp\",\"sex\",\"race\",\"city\"]\n",
    "frisk_2017_filtered = NYFrisk_2017_df[frisk_2016_cols].copy()\n"
   ]
  },
  {
   "cell_type": "code",
   "execution_count": 38,
   "metadata": {},
   "outputs": [],
   "source": [
    "\n",
    "frisk_2017_cols = [\"year\",\"crimsusp\",\"sex\",\"race\",\"city\"]\n",
    "frisk_2018_filtered = NYFrisk_2018_df[frisk_2016_cols].copy()\n",
    "\n"
   ]
  },
  {
   "cell_type": "code",
   "execution_count": 39,
   "metadata": {},
   "outputs": [],
   "source": [
    "#merge data 2015-2019\n",
    "frames = [NYFrisk_2015_df,frisk_2016_filtered,frisk_2017_filtered\n",
    ",frisk_2018_filtered\n",
    ",NYFrisk_2019_df ]\n",
    "merged_frisk = pd.concat(frames, keys=['NYFrisk_2015_df ', 'frisk_2016_filtered', 'frisk_2017_filtered'\n",
    "                                      ,'frisk_2018_filtered','frisk_2019_filtered'])\n",
    "\n"
   ]
  },
  {
   "cell_type": "code",
   "execution_count": 40,
   "metadata": {},
   "outputs": [],
   "source": [
    "clean_metro_NY=metro_NY_df.fillna(0)"
   ]
  },
  {
   "cell_type": "code",
   "execution_count": 41,
   "metadata": {},
   "outputs": [],
   "source": [
    "##cleaning data by zero fill NAN\n",
    "\n",
    "clean_deaths_arrest = deaths_arrests_df.fillna(0)"
   ]
  },
  {
   "cell_type": "code",
   "execution_count": 42,
   "metadata": {},
   "outputs": [],
   "source": [
    "#cleaning data/Dropping columns with incomplete data sets\n",
    "clean_fatal_encouters= fatal_encouters_df[[\"Subject's name\", \"Subject's age\", \"Subject's gender\", \"Subject's race\",\n",
    "                                                    \"Cause of death\", \"Symptoms of mental illness? INTERNAL USE, NOT FOR ANALYSIS\", \"Date of injury resulting in death (month/day/year)\",\"Date (Year)\"]]\n"
   ]
  },
  {
   "cell_type": "code",
   "execution_count": 76,
   "metadata": {},
   "outputs": [],
   "source": [
    "##cleaning data by zero fill NAN\n",
    "clean_killings_df = killings_df.fillna(0)"
   ]
  },
  {
   "cell_type": "markdown",
   "metadata": {},
   "source": [
    "## create database connection"
   ]
  },
  {
   "cell_type": "markdown",
   "metadata": {},
   "source": [
    "### try mongodb"
   ]
  },
  {
   "cell_type": "code",
   "execution_count": 44,
   "metadata": {},
   "outputs": [],
   "source": [
    "#merged_frisk\n",
    "#clean_metro_NY\n",
    "#clean_deaths_arrest\n",
    "#clean_fatal_encouters\n",
    "#fatal_shootings_df\n",
    "#clean_killings_df\n",
    "#politics_df\n",
    "#wash_post_shootings_df\n"
   ]
  },
  {
   "cell_type": "code",
   "execution_count": 45,
   "metadata": {},
   "outputs": [],
   "source": [
    "conn = 'mongodb://localhost:27017'\n",
    "client = pymongo.MongoClient(conn)"
   ]
  },
  {
   "cell_type": "code",
   "execution_count": 46,
   "metadata": {},
   "outputs": [
    {
     "data": {
      "text/plain": [
       "<pymongo.results.InsertManyResult at 0x1591e3320>"
      ]
     },
     "execution_count": 46,
     "metadata": {},
     "output_type": "execute_result"
    }
   ],
   "source": [
    "#merged_frisk\n",
    "\n",
    "db = client['police_db']\n",
    "collection = db['merged_frisk']\n",
    "merged_frisk.reset_index(inplace=True)\n",
    "merged_frisk_dict = merged_frisk.to_dict(\"records\")\n",
    "#insert collection\n",
    "collection.insert_many(merged_frisk_dict)"
   ]
  },
  {
   "cell_type": "code",
   "execution_count": 30,
   "metadata": {},
   "outputs": [
    {
     "data": {
      "text/plain": [
       "<pymongo.results.InsertManyResult at 0x1687d94b0>"
      ]
     },
     "execution_count": 30,
     "metadata": {},
     "output_type": "execute_result"
    }
   ],
   "source": [
    "#clean_metro_NY\n",
    "\n",
    "db = client['police_db']\n",
    "collection = db['metro_NY']\n",
    "clean_metro_NY.reset_index(inplace=True)\n",
    "clean_metro_NY_dict = clean_metro_NY.to_dict(\"records\")\n",
    "\n",
    "#insert collection\n",
    "collection.insert_many(clean_metro_NY_dict)"
   ]
  },
  {
   "cell_type": "code",
   "execution_count": 69,
   "metadata": {},
   "outputs": [],
   "source": [
    "#rename coloumns \n",
    "\n",
    "clean_deaths_arrest=clean_deaths_arrest.rename(columns={'Amer. Indian': 'Amer/Indian'})"
   ]
  },
  {
   "cell_type": "code",
   "execution_count": 70,
   "metadata": {},
   "outputs": [
    {
     "data": {
      "text/plain": [
       "<pymongo.results.InsertManyResult at 0x166314e10>"
      ]
     },
     "execution_count": 70,
     "metadata": {},
     "output_type": "execute_result"
    }
   ],
   "source": [
    "#clean_deaths_arrest\n",
    "db = client['police_db']\n",
    "collection = db['deaths_arrest']\n",
    "clean_deaths_arrest.reset_index(inplace=True)\n",
    "clean_deaths_arrest_dict = clean_deaths_arrest.to_dict(\"records\")\n",
    "\n",
    "#insert collection\n",
    "collection.insert_many(clean_deaths_arrest_dict)"
   ]
  },
  {
   "cell_type": "code",
   "execution_count": 48,
   "metadata": {},
   "outputs": [
    {
     "data": {
      "text/plain": [
       "<pymongo.results.InsertManyResult at 0x15b8b0280>"
      ]
     },
     "execution_count": 48,
     "metadata": {},
     "output_type": "execute_result"
    }
   ],
   "source": [
    "\n",
    "#clean_fatal_encouters\n",
    "\n",
    "db = client['police_db']\n",
    "collection = db['fatal_encouters']\n",
    "clean_fatal_encouters.reset_index(inplace=True)\n",
    "clean_fatal_encouters_dict = clean_fatal_encouters.to_dict(\"records\")\n",
    "\n",
    "#insert collection\n",
    "collection.insert_many(clean_fatal_encouters_dict)"
   ]
  },
  {
   "cell_type": "code",
   "execution_count": 49,
   "metadata": {},
   "outputs": [
    {
     "data": {
      "text/plain": [
       "<pymongo.results.InsertManyResult at 0x15afb12d0>"
      ]
     },
     "execution_count": 49,
     "metadata": {},
     "output_type": "execute_result"
    }
   ],
   "source": [
    "#fatal_shootings_df\n",
    "\n",
    "\n",
    "db = client['police_db']\n",
    "collection = db['fatal_shootings_df']\n",
    "fatal_shootings_df.reset_index(inplace=True)\n",
    "fatal_shootings_df_dict = fatal_shootings_df.to_dict(\"records\")\n",
    "\n",
    "#insert collection\n",
    "collection.insert_many(fatal_shootings_df_dict)"
   ]
  },
  {
   "cell_type": "code",
   "execution_count": 80,
   "metadata": {},
   "outputs": [],
   "source": [
    "#rename coloumns \n",
    "\n",
    "\n",
    "clean_killings_df=clean_killings_df.rename(columns={'Geography (via Trulia methodology based on zipcode population density: http://jedkolko.com/wp-content/uploads/2015/05/full-ZCTA-urban-suburban-rural-classification.xlsx )': 'Geography'})\n",
    "\n",
    "\n",
    "\n",
    "\n",
    "\n",
    "\n"
   ]
  },
  {
   "cell_type": "code",
   "execution_count": 82,
   "metadata": {},
   "outputs": [
    {
     "data": {
      "text/plain": [
       "<pymongo.results.InsertManyResult at 0x16a1adc80>"
      ]
     },
     "execution_count": 82,
     "metadata": {},
     "output_type": "execute_result"
    }
   ],
   "source": [
    "#clean_killings_df\n",
    "\n",
    "db = client['police_db']\n",
    "collection = db['police_killings']\n",
    "clean_killings_df.reset_index(inplace=True)\n",
    "clean_killings_df_dict = clean_killings_df.to_dict(\"records\")\n",
    "\n",
    "#insert collection\n",
    "collection.insert_many(clean_killings_df_dict )"
   ]
  },
  {
   "cell_type": "code",
   "execution_count": 51,
   "metadata": {},
   "outputs": [
    {
     "data": {
      "text/plain": [
       "<pymongo.results.InsertManyResult at 0x16604ff50>"
      ]
     },
     "execution_count": 51,
     "metadata": {},
     "output_type": "execute_result"
    }
   ],
   "source": [
    "#politics_df\n",
    "\n",
    "\n",
    "db = client['police_db']\n",
    "collection = db['politics']\n",
    "politics_df.reset_index(inplace=True)\n",
    "politics_df_dict = politics_df.to_dict(\"records\")\n",
    "\n",
    "#insert collection\n",
    "collection.insert_many(politics_df_dict)"
   ]
  },
  {
   "cell_type": "code",
   "execution_count": 52,
   "metadata": {},
   "outputs": [
    {
     "data": {
      "text/plain": [
       "<pymongo.results.InsertManyResult at 0x1665b65a0>"
      ]
     },
     "execution_count": 52,
     "metadata": {},
     "output_type": "execute_result"
    }
   ],
   "source": [
    "#wash_post_shootings_df\n",
    "\n",
    "db = client['police_db']\n",
    "collection = db['wash_post_shootings']\n",
    "wash_post_shootings_df.reset_index(inplace=True)\n",
    "wash_post_shootings_df_dict = wash_post_shootings_df.to_dict(\"records\")\n",
    "\n",
    "#insert collection\n",
    "collection.insert_many(wash_post_shootings_df_dict)"
   ]
  },
  {
   "cell_type": "code",
   "execution_count": null,
   "metadata": {},
   "outputs": [],
   "source": []
  },
  {
   "cell_type": "code",
   "execution_count": null,
   "metadata": {},
   "outputs": [],
   "source": []
  }
 ],
 "metadata": {
  "kernelspec": {
   "display_name": "Python 3",
   "language": "python",
   "name": "python3"
  },
  "language_info": {
   "codemirror_mode": {
    "name": "ipython",
    "version": 3
   },
   "file_extension": ".py",
   "mimetype": "text/x-python",
   "name": "python",
   "nbconvert_exporter": "python",
   "pygments_lexer": "ipython3",
   "version": "3.7.6"
  }
 },
 "nbformat": 4,
 "nbformat_minor": 4
}
