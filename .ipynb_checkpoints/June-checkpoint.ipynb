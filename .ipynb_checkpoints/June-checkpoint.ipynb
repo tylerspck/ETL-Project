{
 "cells": [
  {
   "cell_type": "code",
   "execution_count": 12,
   "metadata": {},
   "outputs": [],
   "source": [
    "import pandas as pd\n",
    "from sqlalchemy import create_engine"
   ]
  },
  {
   "cell_type": "code",
   "execution_count": 13,
   "metadata": {},
   "outputs": [],
   "source": [
    "\n",
    "metro_NY_file = 'Police Dataset/Large_metro_areas/NYPD_Arrests_Data__Historic_.csv'\n",
    "NYFrisk_2015_file = 'Police Dataset/NYC_stop_frisk/sqf-2015.csv'\n",
    "NYFrisk_2016_file = 'Police Dataset/NYC_stop_frisk/sqf-2016.csv'\n",
    "NYFrisk_2017_file = 'Police Dataset/NYC_stop_frisk/sqf-2017.csv'\n",
    "NYFrisk_2018_file = 'Police Dataset/NYC_stop_frisk/sqf-2018.csv'\n",
    "NYFrisk_2019_file = 'Police Dataset/NYC_stop_frisk/sqf-2019.csv'\n",
    "\n",
    "deaths_arrests_file = 'Police Dataset/deaths_arrests_race.csv'\n",
    "\n",
    "\n",
    "fatal_encouters_file = 'Police Dataset/fatal_encounters_dot_org.csv'\n",
    "fatal_shootings_file = 'Police Dataset/fatal-police-shootings-data.csv'\n",
    "juvenile_file = 'Police Dataset/juvenile_arrests.csv'\n",
    "contracts_file = 'Police Dataset/police_contracts.csv'\n",
    "\n",
    "killings_file = 'Police Dataset/police_killings.csv'\n",
    "\n",
    "\n",
    "wash_post_shootings_file = 'Police Dataset/shootings_wash_post.csv'\n"
   ]
  },
  {
   "cell_type": "code",
   "execution_count": 14,
   "metadata": {},
   "outputs": [],
   "source": [
    "\n",
    "metro_NY_df = pd.read_csv(metro_NY_file)\n",
    "NYFrisk_2015_df = pd.read_csv(NYFrisk_2015_file)\n",
    "NYFrisk_2016_df = pd.read_csv(NYFrisk_2016_file)\n",
    "NYFrisk_2017_df = pd.read_csv(NYFrisk_2017_file)\n",
    "NYFrisk_2018_df = pd.read_csv(NYFrisk_2018_file)\n",
    "NYFrisk_2019_df = pd.read_csv(NYFrisk_2019_file)\n",
    "\n",
    "deaths_arrests_df = pd.read_csv(deaths_arrests_file)\n",
    "\n",
    "\n",
    "fatal_encouters_df = pd.read_csv(fatal_encouters_file)\n",
    "fatal_shootings_df = pd.read_csv(fatal_shootings_file)\n",
    "juvenile_df = pd.read_csv(juvenile_file)\n",
    "\n",
    "\n",
    "killings_df = pd.read_csv(killings_file)\n",
    "\n",
    "\n",
    "\n",
    "wash_post_shootings_df = pd.read_csv(wash_post_shootings_file)\n",
    "\n"
   ]
  },
  {
   "cell_type": "code",
   "execution_count": 28,
   "metadata": {},
   "outputs": [],
   "source": [
    "#NYFrisk_2015_df \n",
    "#frisk_2016_filtered\n",
    "#frisk_2017_filtered\n",
    "#frisk_2018_filtered\n",
    "#NYFrisk_2019_df "
   ]
  },
  {
   "cell_type": "code",
   "execution_count": 30,
   "metadata": {},
   "outputs": [],
   "source": [
    "frisk_2016_cols = [\"year\",\"crimsusp\",\"sex\",\"race\",\"city\"]\n",
    "frisk_2016_filtered = NYFrisk_2016_df[frisk_2016_cols].copy()\n"
   ]
  },
  {
   "cell_type": "code",
   "execution_count": 31,
   "metadata": {},
   "outputs": [],
   "source": [
    "frisk_2017_cols = [\"year\",\"crimsusp\",\"sex\",\"race\",\"city\"]\n",
    "frisk_2017_filtered = NYFrisk_2017_df[frisk_2016_cols].copy()\n"
   ]
  },
  {
   "cell_type": "code",
   "execution_count": 32,
   "metadata": {},
   "outputs": [],
   "source": [
    "\n",
    "frisk_2017_cols = [\"year\",\"crimsusp\",\"sex\",\"race\",\"city\"]\n",
    "frisk_2018_filtered = NYFrisk_2018_df[frisk_2016_cols].copy()\n",
    "\n"
   ]
  },
  {
   "cell_type": "code",
   "execution_count": 34,
   "metadata": {},
   "outputs": [],
   "source": [
    "#merge data 2015-2019\n",
    "frames = [NYFrisk_2015_df,frisk_2016_filtered,frisk_2017_filtered\n",
    ",frisk_2018_filtered\n",
    ",NYFrisk_2019_df ]\n",
    "merged_frisk = pd.concat(frames, keys=['NYFrisk_2015_df ', 'frisk_2016_filtered', 'frisk_2017_filtered'\n",
    "                                      ,'frisk_2018_filtered','frisk_2019_filtered'])\n",
    "\n"
   ]
  },
  {
   "cell_type": "code",
   "execution_count": 36,
   "metadata": {},
   "outputs": [
    {
     "data": {
      "text/html": [
       "<div>\n",
       "<style scoped>\n",
       "    .dataframe tbody tr th:only-of-type {\n",
       "        vertical-align: middle;\n",
       "    }\n",
       "\n",
       "    .dataframe tbody tr th {\n",
       "        vertical-align: top;\n",
       "    }\n",
       "\n",
       "    .dataframe thead th {\n",
       "        text-align: right;\n",
       "    }\n",
       "</style>\n",
       "<table border=\"1\" class=\"dataframe\">\n",
       "  <thead>\n",
       "    <tr style=\"text-align: right;\">\n",
       "      <th></th>\n",
       "      <th></th>\n",
       "      <th>year</th>\n",
       "      <th>crimsusp</th>\n",
       "      <th>sex</th>\n",
       "      <th>race</th>\n",
       "      <th>city</th>\n",
       "    </tr>\n",
       "  </thead>\n",
       "  <tbody>\n",
       "    <tr>\n",
       "      <th rowspan=\"5\" valign=\"top\">NYFrisk_2015_df</th>\n",
       "      <th>0</th>\n",
       "      <td>2015</td>\n",
       "      <td>FELONY</td>\n",
       "      <td>M</td>\n",
       "      <td>W</td>\n",
       "      <td>BROOKLYN</td>\n",
       "    </tr>\n",
       "    <tr>\n",
       "      <th>1</th>\n",
       "      <td>2015</td>\n",
       "      <td>FELONY</td>\n",
       "      <td>M</td>\n",
       "      <td>B</td>\n",
       "      <td>MANHATTAN</td>\n",
       "    </tr>\n",
       "    <tr>\n",
       "      <th>2</th>\n",
       "      <td>2015</td>\n",
       "      <td>MISD</td>\n",
       "      <td>M</td>\n",
       "      <td>B</td>\n",
       "      <td>MANHATTAN</td>\n",
       "    </tr>\n",
       "    <tr>\n",
       "      <th>3</th>\n",
       "      <td>2015</td>\n",
       "      <td>MIDS</td>\n",
       "      <td>M</td>\n",
       "      <td>B</td>\n",
       "      <td>MANHATTAN</td>\n",
       "    </tr>\n",
       "    <tr>\n",
       "      <th>4</th>\n",
       "      <td>2015</td>\n",
       "      <td>MISD</td>\n",
       "      <td>M</td>\n",
       "      <td>B</td>\n",
       "      <td>MANHATTAN</td>\n",
       "    </tr>\n",
       "  </tbody>\n",
       "</table>\n",
       "</div>"
      ],
      "text/plain": [
       "                    year crimsusp sex race       city\n",
       "NYFrisk_2015_df  0  2015   FELONY   M    W   BROOKLYN\n",
       "                 1  2015   FELONY   M    B  MANHATTAN\n",
       "                 2  2015     MISD   M    B  MANHATTAN\n",
       "                 3  2015     MIDS   M    B  MANHATTAN\n",
       "                 4  2015     MISD   M    B  MANHATTAN"
      ]
     },
     "execution_count": 36,
     "metadata": {},
     "output_type": "execute_result"
    }
   ],
   "source": [
    "merged_frisk.head()"
   ]
  },
  {
   "cell_type": "code",
   "execution_count": null,
   "metadata": {},
   "outputs": [],
   "source": []
  },
  {
   "cell_type": "code",
   "execution_count": null,
   "metadata": {},
   "outputs": [],
   "source": []
  },
  {
   "cell_type": "code",
   "execution_count": null,
   "metadata": {},
   "outputs": [],
   "source": []
  },
  {
   "cell_type": "code",
   "execution_count": null,
   "metadata": {},
   "outputs": [],
   "source": []
  }
 ],
 "metadata": {
  "kernelspec": {
   "display_name": "Python 3",
   "language": "python",
   "name": "python3"
  },
  "language_info": {
   "codemirror_mode": {
    "name": "ipython",
    "version": 3
   },
   "file_extension": ".py",
   "mimetype": "text/x-python",
   "name": "python",
   "nbconvert_exporter": "python",
   "pygments_lexer": "ipython3",
   "version": "3.7.6"
  }
 },
 "nbformat": 4,
 "nbformat_minor": 4
}
