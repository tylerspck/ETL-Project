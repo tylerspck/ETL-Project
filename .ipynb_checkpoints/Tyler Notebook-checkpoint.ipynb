{
 "cells": [
  {
   "cell_type": "code",
   "execution_count": 1,
   "metadata": {},
   "outputs": [],
   "source": [
    "import pandas as pd\n",
    "from sqlalchemy import create_engine"
   ]
  },
  {
   "cell_type": "code",
   "execution_count": 2,
   "metadata": {},
   "outputs": [],
   "source": [
    "metro_chicago_file = 'Police Dataset/Large_metro_areas/Chicago Crimes_-_2001_to_Present.csv'\n",
    "metro_Dallas_file = 'Police Dataset/Large_metro_areas/Dallas Police Arrests.csv'\n",
    "metro_LA_file = 'Police Dataset/Large_metro_areas/LA Crime_Data_from_2010_to_2019.csv'\n",
    "metro_NY_file = 'Police Dataset/Large_metro_areas/NYPD_Arrests_Data__Historic_.csv'\n",
    "NYFrisk_2015_file = 'Police Dataset/NYC_stop_frisk/sqf-2015.csv'\n",
    "NYFrisk_2016_file = 'Police Dataset/NYC_stop_frisk/sqf-2016.csv'\n",
    "NYFrisk_2017_file = 'Police Dataset/NYC_stop_frisk/sqf-2017.csv'\n",
    "NYFrisk_2018_file = 'Police Dataset/NYC_stop_frisk/sqf-2018.csv'\n",
    "NYFrisk_2019_file = 'Police Dataset/NYC_stop_frisk/sqf-2019.csv'\n",
    "budgets_file = 'Police Dataset/budgets.csv'\n",
    "deaths_arrests_file = 'Police Dataset/deaths_arrests_race.csv'\n",
    "dod_equip_file = 'Police Dataset/dod_equipment_purchases.csv'\n",
    "education_file = 'Police Dataset/education_census_bureau.csv'\n",
    "fatal_encouters_file = 'Police Dataset/fatal_encounters_dot_org.csv'\n",
    "fatal_shootings_file = 'Police Dataset/fatal-police-shootings-data.csv'\n",
    "juvenile_file = 'Police Dataset/juvenile_arrests.csv'\n",
    "contracts_file = 'Police Dataset/police_contracts.csv'\n",
    "employment_file = 'Police Dataset/police_employment_fbi.csv'\n",
    "killings_file = 'Police Dataset/police_killings.csv'\n",
    "policies_file = 'Police Dataset/police_policies.csv'\n",
    "politics_file = 'Police Dataset/politics_538.csv'\n",
    "poverty_file = 'Police Dataset/poverty_census_bureau.csv'\n",
    "wash_post_shootings_file = 'Police Dataset/shootings_wash_post.csv'\n"
   ]
  },
  {
   "cell_type": "code",
   "execution_count": null,
   "metadata": {},
   "outputs": [],
   "source": [
    "metro_chicago_df = pd.read_csv(metro_chicago_file)\n",
    "metro_Dallas_df = pd.read_csv(metro_Dallas_file)\n",
    "metro_LA_df = pd.read_csv(metro_LA_file)\n",
    "metro_NY_df = pd.read_csv(metro_NY_file)\n",
    "NYFrisk_2015_df = pd.read_csv(NYFrisk_2015_file)\n",
    "NYFrisk_2016_df = pd.read_csv(NYFrisk_2016_file)\n",
    "NYFrisk_2017_df = pd.read_csv(NYFrisk_2017_file)\n",
    "NYFrisk_2018_df = pd.read_csv(NYFrisk_2018_file)\n",
    "NYFrisk_2019_df = pd.read_csv(NYFrisk_2019_file)\n",
    "budgets_df = pd.read_csv(budgets_file)\n",
    "deaths_arrests_df = pd.read_csv(deaths_arrests_file)\n",
    "dod_equip_df = pd.read_csv(dod_equip_file)\n",
    "education_df = pd.read_csv(education_file)\n",
    "fatal_encouters_df = pd.read_csv(fatal_encouters_file)\n",
    "fatal_shootings_df = pd.read_csv(fatal_shootings_file)\n",
    "juvenile_df = pd.read_csv(juvenile_file)\n",
    "contracts_df = pd.read_csv(contracts_file)\n",
    "employment_df = pd.read_csv(employment_file)\n",
    "killings_df = pd.read_csv(killings_file)\n",
    "policies_df = pd.read_csv(policies_file)\n",
    "politics_df = pd.read_csv(politics_file)\n",
    "poverty_df = pd.read_csv(poverty_file)\n",
    "wash_post_shootings_df = pd.read_csv(wash_post_shootings_file)\n",
    "\n"
   ]
  },
  {
   "cell_type": "code",
   "execution_count": null,
   "metadata": {},
   "outputs": [],
   "source": [
    "met"
   ]
  },
  {
   "cell_type": "code",
   "execution_count": null,
   "metadata": {},
   "outputs": [],
   "source": []
  },
  {
   "cell_type": "code",
   "execution_count": null,
   "metadata": {},
   "outputs": [],
   "source": []
  },
  {
   "cell_type": "code",
   "execution_count": null,
   "metadata": {},
   "outputs": [],
   "source": []
  },
  {
   "cell_type": "code",
   "execution_count": null,
   "metadata": {},
   "outputs": [],
   "source": []
  },
  {
   "cell_type": "code",
   "execution_count": null,
   "metadata": {},
   "outputs": [],
   "source": []
  },
  {
   "cell_type": "code",
   "execution_count": null,
   "metadata": {},
   "outputs": [],
   "source": []
  },
  {
   "cell_type": "code",
   "execution_count": null,
   "metadata": {},
   "outputs": [],
   "source": []
  },
  {
   "cell_type": "code",
   "execution_count": null,
   "metadata": {},
   "outputs": [],
   "source": []
  },
  {
   "cell_type": "code",
   "execution_count": null,
   "metadata": {},
   "outputs": [],
   "source": []
  }
 ],
 "metadata": {
  "kernelspec": {
   "display_name": "Python 3",
   "language": "python",
   "name": "python3"
  },
  "language_info": {
   "codemirror_mode": {
    "name": "ipython",
    "version": 3
   },
   "file_extension": ".py",
   "mimetype": "text/x-python",
   "name": "python",
   "nbconvert_exporter": "python",
   "pygments_lexer": "ipython3",
   "version": "3.7.6"
  }
 },
 "nbformat": 4,
 "nbformat_minor": 4
}
