{
 "cells": [
  {
   "cell_type": "code",
   "execution_count": 30,
   "metadata": {},
   "outputs": [],
   "source": [
    "import pandas as pd\n",
    "from sqlalchemy import create_engine\n",
    "import numpy as np\n",
    "import pymongo\n",
    "from pymongo import MongoClient"
   ]
  },
  {
   "cell_type": "markdown",
   "metadata": {},
   "source": [
    "## read raw csv files"
   ]
  },
  {
   "cell_type": "code",
   "execution_count": 2,
   "metadata": {},
   "outputs": [],
   "source": [
    "\n",
    "metro_NY_file = 'Police Dataset/Large_metro_areas/NYPD_Arrests_Data__Historic_.csv'\n",
    "NYFrisk_2015_file = 'Police Dataset/NYC_stop_frisk/sqf-2015.csv'\n",
    "NYFrisk_2016_file = 'Police Dataset/NYC_stop_frisk/sqf-2016.csv'\n",
    "NYFrisk_2017_file = 'Police Dataset/NYC_stop_frisk/sqf-2017.csv'\n",
    "NYFrisk_2018_file = 'Police Dataset/NYC_stop_frisk/sqf-2018.csv'\n",
    "NYFrisk_2019_file = 'Police Dataset/NYC_stop_frisk/sqf-2019.csv'\n",
    "\n",
    "deaths_arrests_file = 'Police Dataset/deaths_arrests_race.csv'\n",
    "\n",
    "\n",
    "fatal_encouters_file = 'Police Dataset/fatal_encounters_dot_org.csv'\n",
    "fatal_shootings_file = 'Police Dataset/fatal-police-shootings-data.csv'\n",
    "\n",
    "contracts_file = 'Police Dataset/police_contracts.csv'\n",
    "\n",
    "killings_file = 'Police Dataset/police_killings.csv'\n",
    "\n",
    "\n",
    "wash_post_shootings_file = 'Police Dataset/shootings_wash_post.csv'\n",
    "\n",
    "politics_file = 'Police Dataset/politics_538.csv'\n",
    "politics_df = pd.read_csv(politics_file)"
   ]
  },
  {
   "cell_type": "code",
   "execution_count": 3,
   "metadata": {},
   "outputs": [
    {
     "name": "stderr",
     "output_type": "stream",
     "text": [
      "/Users/specky3512/anaconda3/lib/python3.7/site-packages/IPython/core/interactiveshell.py:3063: DtypeWarning: Columns (0,1,2,3,4,8,18,19,73,74,84,85,86,103,110,111) have mixed types.Specify dtype option on import or set low_memory=False.\n",
      "  interactivity=interactivity, compiler=compiler, result=result)\n"
     ]
    }
   ],
   "source": [
    "\n",
    "metro_NY_df = pd.read_csv(metro_NY_file)\n",
    "NYFrisk_2015_df = pd.read_csv(NYFrisk_2015_file)\n",
    "NYFrisk_2016_df = pd.read_csv(NYFrisk_2016_file)\n",
    "NYFrisk_2017_df = pd.read_csv(NYFrisk_2017_file)\n",
    "NYFrisk_2018_df = pd.read_csv(NYFrisk_2018_file)\n",
    "NYFrisk_2019_df = pd.read_csv(NYFrisk_2019_file)\n",
    "\n",
    "deaths_arrests_df = pd.read_csv(deaths_arrests_file)\n",
    "\n",
    "\n",
    "fatal_encouters_df = pd.read_csv(fatal_encouters_file)\n",
    "fatal_shootings_df = pd.read_csv(fatal_shootings_file)\n",
    "\n",
    "\n",
    "\n",
    "killings_df = pd.read_csv(killings_file)\n",
    "\n",
    "\n",
    "\n",
    "wash_post_shootings_df = pd.read_csv(wash_post_shootings_file)\n",
    "\n"
   ]
  },
  {
   "cell_type": "markdown",
   "metadata": {},
   "source": [
    "## start cleaning data frames"
   ]
  },
  {
   "cell_type": "code",
   "execution_count": 4,
   "metadata": {},
   "outputs": [],
   "source": [
    "#NYFrisk_2015_df \n",
    "#frisk_2016_filtered\n",
    "#frisk_2017_filtered\n",
    "#frisk_2018_filtered\n",
    "#NYFrisk_2019_df \n",
    "\n",
    "\n",
    "\n",
    "#cleaned data frames:\n",
    "\n",
    "#merged_frisk\n",
    "#clean_metro_NY\n",
    "#clean_deaths_arrest\n",
    "#clean_fatal_encouters\n",
    "#fatal_shootings_df\n",
    "#clean_killings_df\n",
    "#politics_df\n",
    "#wash_post_shootings_df\n"
   ]
  },
  {
   "cell_type": "code",
   "execution_count": 5,
   "metadata": {},
   "outputs": [],
   "source": [
    "frisk_2016_cols = [\"year\",\"crimsusp\",\"sex\",\"race\",\"city\"]\n",
    "frisk_2016_filtered = NYFrisk_2016_df[frisk_2016_cols].copy()"
   ]
  },
  {
   "cell_type": "code",
   "execution_count": 6,
   "metadata": {},
   "outputs": [],
   "source": [
    "frisk_2017_cols = [\"year\",\"crimsusp\",\"sex\",\"race\",\"city\"]\n",
    "frisk_2017_filtered = NYFrisk_2017_df[frisk_2016_cols].copy()\n"
   ]
  },
  {
   "cell_type": "code",
   "execution_count": 7,
   "metadata": {},
   "outputs": [],
   "source": [
    "\n",
    "frisk_2017_cols = [\"year\",\"crimsusp\",\"sex\",\"race\",\"city\"]\n",
    "frisk_2018_filtered = NYFrisk_2018_df[frisk_2016_cols].copy()\n",
    "\n"
   ]
  },
  {
   "cell_type": "code",
   "execution_count": 8,
   "metadata": {},
   "outputs": [],
   "source": [
    "#merge data 2015-2019\n",
    "frames = [NYFrisk_2015_df,frisk_2016_filtered,frisk_2017_filtered\n",
    ",frisk_2018_filtered\n",
    ",NYFrisk_2019_df ]\n",
    "merged_frisk = pd.concat(frames, keys=['NYFrisk_2015_df ', 'frisk_2016_filtered', 'frisk_2017_filtered'\n",
    "                                      ,'frisk_2018_filtered','frisk_2019_filtered'])\n",
    "\n"
   ]
  },
  {
   "cell_type": "code",
   "execution_count": 10,
   "metadata": {},
   "outputs": [
    {
     "data": {
      "text/html": [
       "<div>\n",
       "<style scoped>\n",
       "    .dataframe tbody tr th:only-of-type {\n",
       "        vertical-align: middle;\n",
       "    }\n",
       "\n",
       "    .dataframe tbody tr th {\n",
       "        vertical-align: top;\n",
       "    }\n",
       "\n",
       "    .dataframe thead th {\n",
       "        text-align: right;\n",
       "    }\n",
       "</style>\n",
       "<table border=\"1\" class=\"dataframe\">\n",
       "  <thead>\n",
       "    <tr style=\"text-align: right;\">\n",
       "      <th></th>\n",
       "      <th>ARREST_KEY</th>\n",
       "      <th>ARREST_DATE</th>\n",
       "      <th>PD_DESC</th>\n",
       "      <th>OFNS_DESC</th>\n",
       "      <th>ARREST_BORO</th>\n",
       "      <th>AGE_GROUP</th>\n",
       "      <th>PERP_SEX</th>\n",
       "      <th>PERP_SEX</th>\n",
       "      <th>PERP_RACE</th>\n",
       "    </tr>\n",
       "  </thead>\n",
       "  <tbody>\n",
       "    <tr>\n",
       "      <th>0</th>\n",
       "      <td>190294601</td>\n",
       "      <td>11/23/2018</td>\n",
       "      <td>ASSAULT 2,1,UNCLASSIFIED</td>\n",
       "      <td>FELONY ASSAULT</td>\n",
       "      <td>B</td>\n",
       "      <td>25-44</td>\n",
       "      <td>M</td>\n",
       "      <td>M</td>\n",
       "      <td>BLACK</td>\n",
       "    </tr>\n",
       "    <tr>\n",
       "      <th>1</th>\n",
       "      <td>190266280</td>\n",
       "      <td>11/21/2018</td>\n",
       "      <td>0</td>\n",
       "      <td>0</td>\n",
       "      <td>Q</td>\n",
       "      <td>25-44</td>\n",
       "      <td>M</td>\n",
       "      <td>M</td>\n",
       "      <td>BLACK HISPANIC</td>\n",
       "    </tr>\n",
       "    <tr>\n",
       "      <th>2</th>\n",
       "      <td>190159521</td>\n",
       "      <td>11/19/2018</td>\n",
       "      <td>ASSAULT 3</td>\n",
       "      <td>ASSAULT 3 &amp; RELATED OFFENSES</td>\n",
       "      <td>K</td>\n",
       "      <td>25-44</td>\n",
       "      <td>M</td>\n",
       "      <td>M</td>\n",
       "      <td>BLACK</td>\n",
       "    </tr>\n",
       "    <tr>\n",
       "      <th>3</th>\n",
       "      <td>190080571</td>\n",
       "      <td>11/16/2018</td>\n",
       "      <td>0</td>\n",
       "      <td>0</td>\n",
       "      <td>Q</td>\n",
       "      <td>18-24</td>\n",
       "      <td>M</td>\n",
       "      <td>M</td>\n",
       "      <td>BLACK</td>\n",
       "    </tr>\n",
       "    <tr>\n",
       "      <th>4</th>\n",
       "      <td>190027735</td>\n",
       "      <td>11/15/2018</td>\n",
       "      <td>0</td>\n",
       "      <td>0</td>\n",
       "      <td>M</td>\n",
       "      <td>45-64</td>\n",
       "      <td>M</td>\n",
       "      <td>M</td>\n",
       "      <td>WHITE HISPANIC</td>\n",
       "    </tr>\n",
       "  </tbody>\n",
       "</table>\n",
       "</div>"
      ],
      "text/plain": [
       "   ARREST_KEY ARREST_DATE                   PD_DESC  \\\n",
       "0   190294601  11/23/2018  ASSAULT 2,1,UNCLASSIFIED   \n",
       "1   190266280  11/21/2018                         0   \n",
       "2   190159521  11/19/2018                 ASSAULT 3   \n",
       "3   190080571  11/16/2018                         0   \n",
       "4   190027735  11/15/2018                         0   \n",
       "\n",
       "                      OFNS_DESC ARREST_BORO AGE_GROUP PERP_SEX PERP_SEX  \\\n",
       "0                FELONY ASSAULT           B     25-44        M        M   \n",
       "1                             0           Q     25-44        M        M   \n",
       "2  ASSAULT 3 & RELATED OFFENSES           K     25-44        M        M   \n",
       "3                             0           Q     18-24        M        M   \n",
       "4                             0           M     45-64        M        M   \n",
       "\n",
       "        PERP_RACE  \n",
       "0           BLACK  \n",
       "1  BLACK HISPANIC  \n",
       "2           BLACK  \n",
       "3           BLACK  \n",
       "4  WHITE HISPANIC  "
      ]
     },
     "execution_count": 10,
     "metadata": {},
     "output_type": "execute_result"
    }
   ],
   "source": [
    "clean_metro_NY_filtered=metro_NY_df.fillna(0)\n",
    "clean_metro_NY_cols = ['ARREST_KEY','ARREST_DATE','PD_DESC','OFNS_DESC','ARREST_BORO','AGE_GROUP','PERP_SEX','PERP_SEX'\n",
    "                      ,'PERP_RACE']\n",
    "clean_metro_NY_filtered = clean_metro_NY_filtered[clean_metro_NY_cols].copy()\n",
    "clean_metro_NY_filtered.reset_index(inplace=True)\n",
    "clean_metro_NY_filtered.head()"
   ]
  },
  {
   "cell_type": "code",
   "execution_count": 11,
   "metadata": {},
   "outputs": [],
   "source": [
    "##cleaning data by zero fill NAN\n",
    "\n",
    "clean_deaths_arrest = deaths_arrests_df.fillna(0)"
   ]
  },
  {
   "cell_type": "code",
   "execution_count": 12,
   "metadata": {},
   "outputs": [],
   "source": [
    "#cleaning data/Dropping columns with incomplete data sets\n",
    "clean_fatal_encouters= fatal_encouters_df[[\"Subject's name\", \"Subject's age\", \"Subject's gender\", \"Subject's race\",\n",
    "                                                    \"Cause of death\", \"Symptoms of mental illness? INTERNAL USE, NOT FOR ANALYSIS\", \"Date of injury resulting in death (month/day/year)\",\"Date (Year)\"]]\n"
   ]
  },
  {
   "cell_type": "code",
   "execution_count": 13,
   "metadata": {},
   "outputs": [],
   "source": [
    "##cleaning data by zero fill NAN\n",
    "clean_killings_df = killings_df.fillna(0)"
   ]
  },
  {
   "cell_type": "markdown",
   "metadata": {},
   "source": [
    "## create database connection with mongodb\n"
   ]
  },
  {
   "cell_type": "code",
   "execution_count": 14,
   "metadata": {},
   "outputs": [],
   "source": [
    "#merged_frisk\n",
    "#clean_metro_NY\n",
    "#clean_deaths_arrest\n",
    "#clean_fatal_encouters\n",
    "#fatal_shootings_df\n",
    "#clean_killings_df\n",
    "#politics_df\n",
    "#wash_post_shootings_df\n"
   ]
  },
  {
   "cell_type": "code",
   "execution_count": 15,
   "metadata": {},
   "outputs": [],
   "source": [
    "conn = 'mongodb://localhost:27017'\n",
    "client = pymongo.MongoClient(conn)"
   ]
  },
  {
   "cell_type": "markdown",
   "metadata": {},
   "source": [
    "## load dataframes to database"
   ]
  },
  {
   "cell_type": "code",
   "execution_count": 16,
   "metadata": {},
   "outputs": [
    {
     "data": {
      "text/plain": [
       "<pymongo.results.InsertManyResult at 0x11dbe6460>"
      ]
     },
     "execution_count": 16,
     "metadata": {},
     "output_type": "execute_result"
    }
   ],
   "source": [
    "#merged_frisk\n",
    "\n",
    "db = client['police_db']\n",
    "collection = db['merged_frisk']\n",
    "merged_frisk.reset_index(inplace=True)\n",
    "merged_frisk_dict = merged_frisk.to_dict(\"records\")\n",
    "#insert collection\n",
    "collection.insert_many(merged_frisk_dict)"
   ]
  },
  {
   "cell_type": "code",
   "execution_count": 17,
   "metadata": {},
   "outputs": [
    {
     "name": "stderr",
     "output_type": "stream",
     "text": [
      "/Users/specky3512/anaconda3/lib/python3.7/site-packages/ipykernel_launcher.py:6: UserWarning: DataFrame columns are not unique, some columns will be omitted.\n",
      "  \n"
     ]
    },
    {
     "data": {
      "text/plain": [
       "<pymongo.results.InsertManyResult at 0x21ec24960>"
      ]
     },
     "execution_count": 17,
     "metadata": {},
     "output_type": "execute_result"
    }
   ],
   "source": [
    "#clean_metro_NY\n",
    "\n",
    "db = client['police_db']\n",
    "collection = db['metro_NY']\n",
    "clean_metro_NY_filtered.reset_index(inplace=True)\n",
    "clean_metro_NY_dict = clean_metro_NY_filtered.to_dict(\"records\")\n",
    "\n",
    "#insert collection\n",
    "collection.insert_many(clean_metro_NY_dict)"
   ]
  },
  {
   "cell_type": "code",
   "execution_count": 18,
   "metadata": {},
   "outputs": [],
   "source": [
    "#rename coloumns \n",
    "\n",
    "clean_deaths_arrest=clean_deaths_arrest.rename(columns={'Amer. Indian': 'Amer/Indian'})"
   ]
  },
  {
   "cell_type": "code",
   "execution_count": 19,
   "metadata": {},
   "outputs": [
    {
     "data": {
      "text/plain": [
       "<pymongo.results.InsertManyResult at 0x23b2a3910>"
      ]
     },
     "execution_count": 19,
     "metadata": {},
     "output_type": "execute_result"
    }
   ],
   "source": [
    "#clean_deaths_arrest\n",
    "db = client['police_db']\n",
    "collection = db['deaths_arrest']\n",
    "clean_deaths_arrest.reset_index(inplace=True)\n",
    "clean_deaths_arrest_dict = clean_deaths_arrest.to_dict(\"records\")\n",
    "\n",
    "#insert collection\n",
    "collection.insert_many(clean_deaths_arrest_dict)"
   ]
  },
  {
   "cell_type": "code",
   "execution_count": 20,
   "metadata": {},
   "outputs": [
    {
     "data": {
      "text/plain": [
       "<pymongo.results.InsertManyResult at 0x2075bc3c0>"
      ]
     },
     "execution_count": 20,
     "metadata": {},
     "output_type": "execute_result"
    }
   ],
   "source": [
    "\n",
    "#clean_fatal_encouters\n",
    "\n",
    "db = client['police_db']\n",
    "collection = db['fatal_encouters']\n",
    "clean_fatal_encouters.reset_index(inplace=True)\n",
    "clean_fatal_encouters_dict = clean_fatal_encouters.to_dict(\"records\")\n",
    "\n",
    "#insert collection\n",
    "collection.insert_many(clean_fatal_encouters_dict)"
   ]
  },
  {
   "cell_type": "code",
   "execution_count": 21,
   "metadata": {},
   "outputs": [
    {
     "data": {
      "text/plain": [
       "<pymongo.results.InsertManyResult at 0x115c6b5f0>"
      ]
     },
     "execution_count": 21,
     "metadata": {},
     "output_type": "execute_result"
    }
   ],
   "source": [
    "#fatal_shootings_df\n",
    "\n",
    "\n",
    "db = client['police_db']\n",
    "collection = db['fatal_shootings_df']\n",
    "fatal_shootings_df.reset_index(inplace=True)\n",
    "fatal_shootings_df_dict = fatal_shootings_df.to_dict(\"records\")\n",
    "\n",
    "#insert collection\n",
    "collection.insert_many(fatal_shootings_df_dict)"
   ]
  },
  {
   "cell_type": "code",
   "execution_count": 22,
   "metadata": {},
   "outputs": [],
   "source": [
    "#rename coloumns \n",
    "\n",
    "\n",
    "clean_killings_df=clean_killings_df.rename(columns={'Geography (via Trulia methodology based on zipcode population density: http://jedkolko.com/wp-content/uploads/2015/05/full-ZCTA-urban-suburban-rural-classification.xlsx )': 'Geography'})\n",
    "\n",
    "\n",
    "\n",
    "\n",
    "\n",
    "\n"
   ]
  },
  {
   "cell_type": "code",
   "execution_count": 23,
   "metadata": {},
   "outputs": [
    {
     "data": {
      "text/plain": [
       "<pymongo.results.InsertManyResult at 0x20fea6a00>"
      ]
     },
     "execution_count": 23,
     "metadata": {},
     "output_type": "execute_result"
    }
   ],
   "source": [
    "#clean_killings_df\n",
    "\n",
    "db = client['police_db']\n",
    "collection = db['police_killings']\n",
    "clean_killings_df.reset_index(inplace=True)\n",
    "clean_killings_df_dict = clean_killings_df.to_dict(\"records\")\n",
    "\n",
    "#insert collection\n",
    "collection.insert_many(clean_killings_df_dict )"
   ]
  },
  {
   "cell_type": "code",
   "execution_count": 24,
   "metadata": {},
   "outputs": [
    {
     "data": {
      "text/plain": [
       "<pymongo.results.InsertManyResult at 0x20787f8c0>"
      ]
     },
     "execution_count": 24,
     "metadata": {},
     "output_type": "execute_result"
    }
   ],
   "source": [
    "#politics_df\n",
    "\n",
    "\n",
    "db = client['police_db']\n",
    "collection = db['politics']\n",
    "politics_df.reset_index(inplace=True)\n",
    "politics_df_dict = politics_df.to_dict(\"records\")\n",
    "\n",
    "#insert collection\n",
    "collection.insert_many(politics_df_dict)"
   ]
  },
  {
   "cell_type": "code",
   "execution_count": 25,
   "metadata": {},
   "outputs": [
    {
     "data": {
      "text/plain": [
       "<pymongo.results.InsertManyResult at 0x206e273c0>"
      ]
     },
     "execution_count": 25,
     "metadata": {},
     "output_type": "execute_result"
    }
   ],
   "source": [
    "#wash_post_shootings_df\n",
    "\n",
    "db = client['police_db']\n",
    "collection = db['wash_post_shootings']\n",
    "wash_post_shootings_df.reset_index(inplace=True)\n",
    "wash_post_shootings_df_dict = wash_post_shootings_df.to_dict(\"records\")\n",
    "\n",
    "#insert collection\n",
    "collection.insert_many(wash_post_shootings_df_dict)"
   ]
  },
  {
   "cell_type": "code",
   "execution_count": null,
   "metadata": {},
   "outputs": [],
   "source": []
  },
  {
   "cell_type": "code",
   "execution_count": 38,
   "metadata": {},
   "outputs": [
    {
     "ename": "NameError",
     "evalue": "name 'b' is not defined",
     "output_type": "error",
     "traceback": [
      "\u001b[0;31m---------------------------------------------------------------------------\u001b[0m",
      "\u001b[0;31mNameError\u001b[0m                                 Traceback (most recent call last)",
      "\u001b[0;32m<ipython-input-38-30f5c16cf1ce>\u001b[0m in \u001b[0;36m<module>\u001b[0;34m\u001b[0m\n\u001b[1;32m      2\u001b[0m \u001b[0mmydb\u001b[0m \u001b[0;34m=\u001b[0m \u001b[0mmyclient\u001b[0m\u001b[0;34m[\u001b[0m\u001b[0;34m'police_db'\u001b[0m\u001b[0;34m]\u001b[0m\u001b[0;34m\u001b[0m\u001b[0;34m\u001b[0m\u001b[0m\n\u001b[1;32m      3\u001b[0m \u001b[0mmycol\u001b[0m \u001b[0;34m=\u001b[0m \u001b[0mmydb\u001b[0m\u001b[0;34m[\u001b[0m\u001b[0;34m'deaths_arrests'\u001b[0m\u001b[0;34m]\u001b[0m\u001b[0;34m\u001b[0m\u001b[0;34m\u001b[0m\u001b[0m\n\u001b[0;32m----> 4\u001b[0;31m \u001b[0mmycol\u001b[0m\u001b[0;34m.\u001b[0m\u001b[0mfind\u001b[0m\u001b[0;34m(\u001b[0m\u001b[0mb\u001b[0m\u001b[0;34m)\u001b[0m\u001b[0;34m\u001b[0m\u001b[0;34m\u001b[0m\u001b[0m\n\u001b[0m",
      "\u001b[0;31mNameError\u001b[0m: name 'b' is not defined"
     ]
    }
   ],
   "source": [
    "client = pymongo.MongoClient(\"mongodb://localhost:27017/\")\n",
    "\n"
   ]
  },
  {
   "cell_type": "code",
   "execution_count": null,
   "metadata": {
    "collapsed": true
   },
   "outputs": [],
   "source": []
  },
  {
   "cell_type": "code",
   "execution_count": null,
   "metadata": {},
   "outputs": [],
   "source": []
  },
  {
   "cell_type": "code",
   "execution_count": null,
   "metadata": {},
   "outputs": [],
   "source": []
  },
  {
   "cell_type": "code",
   "execution_count": null,
   "metadata": {},
   "outputs": [],
   "source": []
  }
 ],
 "metadata": {
  "kernelspec": {
   "display_name": "Python 3",
   "language": "python",
   "name": "python3"
  },
  "language_info": {
   "codemirror_mode": {
    "name": "ipython",
    "version": 3
   },
   "file_extension": ".py",
   "mimetype": "text/x-python",
   "name": "python",
   "nbconvert_exporter": "python",
   "pygments_lexer": "ipython3",
   "version": "3.7.6"
  }
 },
 "nbformat": 4,
 "nbformat_minor": 4
}
